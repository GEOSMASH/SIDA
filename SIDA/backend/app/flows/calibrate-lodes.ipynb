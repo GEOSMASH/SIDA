{
 "metadata": {
  "language_info": {
   "codemirror_mode": {
    "name": "ipython",
    "version": 3
   },
   "file_extension": ".py",
   "mimetype": "text/x-python",
   "name": "python",
   "nbconvert_exporter": "python",
   "pygments_lexer": "ipython3",
   "version": "3.6.11-final"
  },
  "orig_nbformat": 2,
  "kernelspec": {
   "name": "python3",
   "display_name": "Python 3.6.11 64-bit ('gds': conda)",
   "metadata": {
    "interpreter": {
     "hash": "0a14a7283c5c5864b815aee9a8006f6c118a5518b0596da4aeb02728445e16d0"
    }
   }
  }
 },
 "nbformat": 4,
 "nbformat_minor": 2,
 "cells": [
  {
   "source": [
    "### This file not intended for production code; all it does is calibrate the models for the LODES dataset and saves the model objects."
   ],
   "cell_type": "markdown",
   "metadata": {}
  },
  {
   "cell_type": "code",
   "execution_count": null,
   "metadata": {},
   "outputs": [],
   "source": [
    "# Merge the dataframes -- DEPRECATED\n",
    "o_map = dict(attrdf[['name', 'o_attr']].values)\n",
    "d_map = dict(attrdf[['name', 'd_attr']].values)\n",
    "p_map = dict(attrdf[['name', 'pop']].values)\n",
    "\n",
    "flowdf['o_attr'] = flowdf['origin'].map(o_map)\n",
    "flowdf['d_attr'] = flowdf['dest'].map(d_map)\n",
    "flowdf['o_pop']  = flowdf['origin'].map(p_map)\n",
    "flowdf['d_pop']  = flowdf['dest'].map(p_map)"
   ]
  },
  {
   "cell_type": "code",
   "execution_count": null,
   "metadata": {},
   "outputs": [],
   "source": [
    "# Create costs via Euclidean distance -- DEPRECATED\n",
    "coords = attrdf[['lat', 'lon']].values\n",
    "dists = pdist(coords)\n",
    "cost_arr = np.zeros((flowdf.shape[0], 1))\n",
    "names = attrdf['name'].values\n",
    "\n",
    "for i in trange(flowdf.shape[0]):\n",
    "    o_name = flowdf['origin'].iloc[i]\n",
    "    d_name = flowdf['dest'].iloc[i]\n",
    "    o_idx = np.where(names == o_name)[0][0]\n",
    "    d_idx = np.where(names == d_name)[0][0]\n",
    "    cost_arr[i] = dists[attrdf.shape[0] * o_idx + d_idx - ((o_idx + 2) * (o_idx + 1)) // 2]  # use formula from scipy docs\n",
    "\n",
    "flowdf['cost'] = cost_arr    "
   ]
  },
  {
   "source": [
    "## Calibrate models"
   ],
   "cell_type": "markdown",
   "metadata": {}
  },
  {
   "cell_type": "code",
   "execution_count": null,
   "metadata": {},
   "outputs": [],
   "source": [
    "import numpy as np\n",
    "import pandas as pd\n",
    "import geopandas as gpd\n",
    "import matplotlib.pyplot as plt\n",
    "from tqdm import trange\n",
    "from pysal.model.spint import Gravity, Production\n",
    "from scipy.spatial.distance import pdist, squareform"
   ]
  },
  {
   "cell_type": "code",
   "execution_count": null,
   "metadata": {},
   "outputs": [],
   "source": [
    "# Load data (these filenames are where it is locally for me)\n",
    "attrdf = pd.read_csv('../../../../data/attrs.csv', converters={'name' : str}, index_col=0)\n",
    "flowdf = pd.read_csv('../../../../data/lodes-flows.csv', converters={'origin' : str, 'dest' : str}, index_col=0)"
   ]
  },
  {
   "cell_type": "code",
   "execution_count": null,
   "metadata": {},
   "outputs": [],
   "source": [
    "# Fit unconstrained gravity model to data\n",
    "flows = flowdf['count'].values.reshape(-1, 1)\n",
    "origins = flowdf[['o_attr', 'o_pop']].values\n",
    "destinations = flowdf[['d_attr', 'd_pop']].values\n",
    "cost = flowdf['cost'].values.reshape(-1, 1)\n",
    "\n",
    "unconstrained = Gravity(flows, origins, destinations, cost, cost_func='pow').fit()  # better results with pow over exp\n",
    "unconstrained.pseudoR2"
   ]
  },
  {
   "cell_type": "code",
   "execution_count": null,
   "metadata": {},
   "outputs": [],
   "source": [
    "# Fit production-constrained model to data\n",
    "production = Production(flows, flowdf['origin'].values, destinations, cost, cost_func='pow').fit()\n",
    "production.pseudoR2"
   ]
  },
  {
   "cell_type": "code",
   "execution_count": null,
   "metadata": {},
   "outputs": [],
   "source": [
    "localprod = Production(flows, flowdf['origin'].values, destinations, cost, cost_func='pow').local()"
   ]
  },
  {
   "source": [
    "## Plotting"
   ],
   "cell_type": "markdown",
   "metadata": {}
  },
  {
   "cell_type": "code",
   "execution_count": null,
   "metadata": {},
   "outputs": [],
   "source": [
    "# Load shapefile for mapping\n",
    "counties = gpd.read_file('../../../../data/tl_2018_us_county.shp')\n",
    "counties.drop(counties[counties['STATEFP'].isin(['02', '15', '60', '66', '69', '72', '78'])].index, inplace=True)  # drop non CONUS"
   ]
  },
  {
   "cell_type": "code",
   "execution_count": null,
   "metadata": {},
   "outputs": [],
   "source": [
    "counties['pseudoR2'] = counties['GEOID'].map(dict(zip(np.unique(flowdf['origin'].values), localprod['pseudoR2'])))\n",
    "counties.plot('pseudoR2')\n",
    "plt.show()"
   ]
  },
  {
   "cell_type": "code",
   "execution_count": null,
   "metadata": {},
   "outputs": [],
   "source": []
  }
 ]
}