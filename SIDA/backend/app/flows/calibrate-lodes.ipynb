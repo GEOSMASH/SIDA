{
 "metadata": {
  "language_info": {
   "codemirror_mode": {
    "name": "ipython",
    "version": 3
   },
   "file_extension": ".py",
   "mimetype": "text/x-python",
   "name": "python",
   "nbconvert_exporter": "python",
   "pygments_lexer": "ipython3",
   "version": "3.6.11-final"
  },
  "orig_nbformat": 2,
  "kernelspec": {
   "name": "python3",
   "display_name": "Python 3.6.11 64-bit",
   "metadata": {
    "interpreter": {
     "hash": "0a14a7283c5c5864b815aee9a8006f6c118a5518b0596da4aeb02728445e16d0"
    }
   }
  }
 },
 "nbformat": 4,
 "nbformat_minor": 2,
 "cells": [
  {
   "source": [
    "### This file not intended for production code; all it does is calibrate the models for the LODES dataset and saves the model objects."
   ],
   "cell_type": "markdown",
   "metadata": {}
  },
  {
   "cell_type": "code",
   "execution_count": 37,
   "metadata": {},
   "outputs": [],
   "source": [
    "import numpy as np\n",
    "import pandas as pd\n",
    "import geopandas as gpd\n",
    "from tqdm import trange\n",
    "from pysal.model.spint import Gravity, Production\n",
    "from scipy.spatial.distance import pdist, squareform"
   ]
  },
  {
   "cell_type": "code",
   "execution_count": 9,
   "metadata": {},
   "outputs": [],
   "source": [
    "# Load data (these filenames are where it is locally for me)\n",
    "attrdf = pd.read_csv('../../../../data/attrs.csv', converters={'name' : str}, index_col=0)\n",
    "flowdf = pd.read_csv('../../../../data/lodes-flows.csv', converters={'origin' : str, 'dest' : str}, index_col=0)"
   ]
  },
  {
   "cell_type": "code",
   "execution_count": 51,
   "metadata": {},
   "outputs": [],
   "source": [
    "# Drop AK and HI (didn't do this in the collection script)\n",
    "flowdf.drop(flowdf[flowdf['origin'].map(lambda x : x[:2]) == '02'].index, inplace=True)\n",
    "flowdf.drop(flowdf[flowdf['dest'].map(lambda x : x[:2]) == '02'].index, inplace=True)\n",
    "flowdf.drop(flowdf[flowdf['origin'].map(lambda x : x[:2]) == '15'].index, inplace=True)\n",
    "flowdf.drop(flowdf[flowdf['dest'].map(lambda x : x[:2]) == '15'].index, inplace=True)"
   ]
  },
  {
   "cell_type": "code",
   "execution_count": 90,
   "metadata": {},
   "outputs": [],
   "source": [
    "# Drop '46113' and '51515' which still exist for some reason\n",
    "flowdf.drop(flowdf[flowdf['origin'] == '46113'].index, inplace=True)\n",
    "flowdf.drop(flowdf[flowdf['dest'] == '46113'].index, inplace=True)\n",
    "flowdf.drop(flowdf[flowdf['origin'] == '51515'].index, inplace=True)\n",
    "flowdf.drop(flowdf[flowdf['dest'] == '51515'].index, inplace=True)"
   ]
  },
  {
   "cell_type": "code",
   "execution_count": 12,
   "metadata": {},
   "outputs": [],
   "source": [
    "# Merge the dataframes\n",
    "o_map = dict(attrdf[['name', 'o_attr']].values)\n",
    "d_map = dict(attrdf[['name', 'd_attr']].values)\n",
    "p_map = dict(attrdf[['name', 'pop']].values)\n",
    "\n",
    "flowdf['o_attr'] = flowdf['origin'].map(o_map)\n",
    "flowdf['d_attr'] = flowdf['dest'].map(d_map)\n",
    "flowdf['o_pop']  = flowdf['origin'].map(p_map)\n",
    "flowdf['d_pop']  = flowdf['dest'].map(p_map)"
   ]
  },
  {
   "cell_type": "code",
   "execution_count": 52,
   "metadata": {},
   "outputs": [
    {
     "output_type": "stream",
     "name": "stderr",
     "text": [
      "100%|██████████| 822650/822650 [03:22<00:00, 4060.45it/s]\n"
     ]
    }
   ],
   "source": [
    "# Create costs via Euclidean distance\n",
    "coords = attrdf[['lat', 'lon']].values\n",
    "dists = pdist(coords)\n",
    "cost_arr = np.zeros((flowdf.shape[0], 1))\n",
    "names = attrdf['name'].values\n",
    "\n",
    "for i in trange(flowdf.shape[0]):\n",
    "    o_name = flowdf['origin'].iloc[i]\n",
    "    d_name = flowdf['dest'].iloc[i]\n",
    "    o_idx = np.where(names == o_name)[0][0]\n",
    "    d_idx = np.where(names == d_name)[0][0]\n",
    "    cost_arr[i] = dists[attrdf.shape[0] * o_idx + d_idx - ((o_idx + 2) * (o_idx + 1)) // 2]  # use formula from scipy docs\n",
    "\n",
    "flowdf['cost'] = cost_arr    "
   ]
  },
  {
   "cell_type": "code",
   "execution_count": 101,
   "metadata": {},
   "outputs": [],
   "source": [
    "# Fit unconstrained gravity model to data\n",
    "flows = flowdf['count'].values.reshape(-1, 1)\n",
    "origins = flowdf[['o_attr', 'o_pop']].values\n",
    "destinations = flowdf[['d_attr', 'd_pop']].values\n",
    "cost = flowdf['cost'].values.reshape(-1, 1)\n",
    "\n",
    "unconstrained = Gravity(flows, origins, destinations, cost, cost_func='pow').fit()  # better results with pow over exp"
   ]
  },
  {
   "cell_type": "code",
   "execution_count": 100,
   "metadata": {},
   "outputs": [],
   "source": [
    "# Fit production-constrained model to data\n",
    "production = Production(flows, flowdf['origin'].values, destinations, cost, cost_func='pow').fit()"
   ]
  },
  {
   "cell_type": "code",
   "execution_count": 102,
   "metadata": {},
   "outputs": [
    {
     "output_type": "execute_result",
     "data": {
      "text/plain": [
       "0.24023565315205087"
      ]
     },
     "metadata": {},
     "execution_count": 102
    }
   ],
   "source": [
    "unconstrained.pseudoR2"
   ]
  },
  {
   "cell_type": "code",
   "execution_count": 103,
   "metadata": {},
   "outputs": [
    {
     "output_type": "execute_result",
     "data": {
      "text/plain": [
       "0.2459903457302859"
      ]
     },
     "metadata": {},
     "execution_count": 103
    }
   ],
   "source": [
    "production.pseudoR2"
   ]
  },
  {
   "cell_type": "code",
   "execution_count": null,
   "metadata": {},
   "outputs": [],
   "source": []
  }
 ]
}