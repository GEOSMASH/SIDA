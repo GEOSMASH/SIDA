{
 "metadata": {
  "language_info": {
   "codemirror_mode": {
    "name": "ipython",
    "version": 3
   },
   "file_extension": ".py",
   "mimetype": "text/x-python",
   "name": "python",
   "nbconvert_exporter": "python",
   "pygments_lexer": "ipython3",
   "version": "3.6.11-final"
  },
  "orig_nbformat": 2,
  "kernelspec": {
   "name": "python3",
   "display_name": "Python 3",
   "language": "python"
  }
 },
 "nbformat": 4,
 "nbformat_minor": 2,
 "cells": [
  {
   "cell_type": "code",
   "execution_count": 21,
   "metadata": {},
   "outputs": [],
   "source": [
    "import requests\n",
    "import time\n",
    "import json"
   ]
  },
  {
   "cell_type": "code",
   "execution_count": 43,
   "metadata": {},
   "outputs": [],
   "source": [
    "headers = {'Accept-Encoding': 'gzip'}\n",
    "URL = \"http://localhost:8000/data/flows\""
   ]
  },
  {
   "cell_type": "code",
   "execution_count": 49,
   "metadata": {},
   "outputs": [
    {
     "output_type": "stream",
     "name": "stdout",
     "text": [
      "Done\n27.84913468360901\n200\n"
     ]
    }
   ],
   "source": [
    "start = time.time()\n",
    "response = requests.get(URL, headers=headers)\n",
    "data = response.json()\n",
    "print(\"Done\")\n",
    "end = time.time()\n",
    "# with open('example.json', 'w') as json_file:\n",
    "#     json.dump(data, json_file)\n",
    "\n",
    "print(end - start)\n",
    "print(response.status_code)"
   ]
  },
  {
   "cell_type": "code",
   "execution_count": 51,
   "metadata": {},
   "outputs": [
    {
     "output_type": "execute_result",
     "data": {
      "text/plain": [
       "41994401"
      ]
     },
     "metadata": {},
     "execution_count": 51
    }
   ],
   "source": [
    "len(response.content)"
   ]
  },
  {
   "cell_type": "code",
   "execution_count": 48,
   "metadata": {},
   "outputs": [
    {
     "output_type": "execute_result",
     "data": {
      "text/plain": [
       "{'date': 'Fri, 08 Jan 2021 16:23:31 GMT', 'server': 'uvicorn', 'content-length': '5321806', 'content-type': 'application/json', 'content-encoding': 'gzip', 'vary': 'Accept-Encoding'}"
      ]
     },
     "metadata": {},
     "execution_count": 48
    }
   ],
   "source": [
    "response.headers"
   ]
  },
  {
   "source": [
    "70.09513854980469\n",
    "200"
   ],
   "cell_type": "markdown",
   "metadata": {}
  },
  {
   "cell_type": "code",
   "execution_count": 56,
   "metadata": {},
   "outputs": [
    {
     "output_type": "execute_result",
     "data": {
      "text/plain": [
       "{'date': 'Fri, 08 Jan 2021 16:29:02 GMT', 'server': 'uvicorn', 'content-length': '51', 'content-type': 'application/json', 'content-encoding': 'gzip', 'vary': 'Accept-Encoding'}"
      ]
     },
     "metadata": {},
     "execution_count": 56
    }
   ],
   "source": [
    "URL = \"http://localhost:8000/data/locations\"\n",
    "response = requests.head(URL, headers=headers)\n",
    "response.headers"
   ]
  },
  {
   "cell_type": "code",
   "execution_count": 57,
   "metadata": {},
   "outputs": [
    {
     "output_type": "execute_result",
     "data": {
      "text/plain": [
       "'69660'"
      ]
     },
     "metadata": {},
     "execution_count": 57
    }
   ],
   "source": [
    "requests.get(URL, stream=True).headers['Content-length']"
   ]
  }
 ]
}